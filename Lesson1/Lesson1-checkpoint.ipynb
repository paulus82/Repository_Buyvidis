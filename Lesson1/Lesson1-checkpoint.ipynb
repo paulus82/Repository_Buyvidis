{
 "cells": [
  {
   "cell_type": "code",
   "execution_count": 2,
   "metadata": {},
   "outputs": [
    {
     "data": {
      "text/plain": [
       "True"
      ]
     },
     "execution_count": 2,
     "metadata": {},
     "output_type": "execute_result"
    }
   ],
   "source": [
    "long_phrase = 'Насколько проще было бы писать программы, если бы не заказчики'\n",
    "short_phrase = '640Кб должно хватить для любых задач. Билл Гейтс (по легенде)'\n",
    "len ('Насколько проще было бы писать программы, если бы не заказчики') > len ('640Кб должно хватить для любых задач. Билл Гейтс (по легенде')\n"
   ]
  },
  {
   "cell_type": "markdown",
   "metadata": {},
   "source": [
    "Задача 2 Дано значение объема файла в байтах (в мегабайте 2^20 байт). Напишите перевод этого значения в мегабайты в формате: \"Объем файла равен 213.68Mb\"."
   ]
  },
  {
   "cell_type": "code",
   "execution_count": 36,
   "metadata": {},
   "outputs": [
    {
     "name": "stdout",
     "output_type": "stream",
     "text": [
      "Ответ: Объем файла равен 213.68 Mb\n"
     ]
    }
   ],
   "source": [
    "b = (2**20)\n",
    "a = (213.68 * b)\n",
    "c = a / b\n",
    "print('Ответ: Объем файла равен', c, 'Mb')\n",
    " \n",
    "  "
   ]
  },
  {
   "cell_type": "markdown",
   "metadata": {},
   "source": [
    "Задание 3. Разработать приложение для определения знака зодиака по дате рождения. \n",
    "Пример: Введите месяц: март\n",
    "Введите число: 6\n",
    "Вывод: Рыбы"
   ]
  },
  {
   "cell_type": "code",
   "execution_count": 1,
   "metadata": {},
   "outputs": [
    {
     "name": "stdout",
     "output_type": "stream",
     "text": [
      "Введите месяц\n",
      "Апрель\n",
      "Введите число\n",
      "12\n",
      "ОВЕН\n"
     ]
    }
   ],
   "source": [
    "Month = str(input(\"Введите месяц\\n\"))\n",
    "date = int(input(\"Введите число\\n\"))\n",
    "if Month =='Март' and date >= 21 and date <= 31:\n",
    " print(\"ОВЕН\")\n",
    "elif Month =='Апрель' and date >= 1 and date <= 20:\n",
    " print(\"ОВЕН\")\n",
    "elif Month =='Апрель' and date >=21 and date <=31:\n",
    " print(\"ТЕЛЕЦ\")\n",
    "elif Month =='Май' and date >=1 and date <=20:\n",
    " print(\"ТЕЛЕЦ\")\n",
    "elif Month =='Май' and date >=21 and date <=31:\n",
    " print(\"БЛИЗНЕЦЫ\")\n",
    "elif Month =='ИЮНЬ' and date >=1 and date <=21:\n",
    " print(\"БЛИЗНЕЦЫ\")\n",
    "elif Month =='ИЮНЬ' and date >=22 and date <=31:\n",
    " print(\"РАК\")\n",
    "elif Month =='Июль' and date >=1 and date <=22:\n",
    " print(\"PAK\")\n",
    "elif Month =='Июль' and date >=23 and date <=31:\n",
    " print(\"ЛЕВ\")\n",
    "elif Month =='Август' and date >=1 and date <=23:\n",
    " print(\"ЛЕВ\")\n",
    "elif Month =='Август' and date >=24 and date <=31:\n",
    " print(\"Дева\")\n",
    "elif Month =='Сентябрь' and date >=1 and date <=23:\n",
    " print(\"Дева\")\n",
    "elif Month=='Сентябрь' and date >=24 and date <=31:\n",
    " print(\"Весы\")\n",
    "elif Month =='Октябрь' and date >=1 and date <=23:\n",
    " print(\"Весы\")\n",
    "elif Month =='Октябрь' and date >=24 and date <=31:\n",
    " print(\"Скорпион\")\n",
    "elif Month =='Ноябрь' and date >=1 and date <=22:\n",
    " print(\"Скорпион\")\n",
    "elif Month =='Ноябрь' and date >=23 and date <=31:\n",
    " print(\"Стрелец\")\n",
    "elif Month =='Декабрь' and date >=1 and date <=21:\n",
    " print(\"Стрелец\")\n",
    "elif Month =='Декабрь' and date >=22 and date <=31:\n",
    " print(\"Козерог\")\n",
    "elif Month =='Январь' and date >= 1 and date <= 20:\n",
    " print(\"Козерог\")\n",
    "elif Month =='Январь' and date >=21 and date <=31:\n",
    " print(\"Водолей\")\n",
    "elif Month =='Февраль' and date >=1 and date <=20:\n",
    " print(\"Водолей\")\n",
    "elif Month =='Февраль' and date >=21 and date <=31:\n",
    " print(\"Рыбы\")\n",
    "elif Month =='Март' and date >=1 and date <=20:\n",
    " print(\"Рыбы\")"
   ]
  },
  {
   "cell_type": "markdown",
   "metadata": {},
   "source": [
    "Задание 4. Нужно разработать приложение для финансового планирования. Приложение учитывает сколько уходит на ипотеку, \"на жизнь\" и сколько нужно отложить на пенсию. Пользователь вводит:\n",
    "\n",
    "заработанную плату в месяц.\n",
    "сколько процентов от ЗП уходит на ипотеку.\n",
    "сколько процентов от ЗП уходит \"на жизнь\".\n",
    "сколько раз приходит премия в год.\n",
    "Остальная часть заработанной платы откладывается на пенсию.\n",
    "\n",
    "Также пользователю приходит премия в размере зарплаты, от которой половина уходит на отпуск, а вторая половина откладывается.\n",
    "\n",
    "Программа должна учитывать сколько премий было в год.\n",
    "\n",
    "Нужно вывести сколько денег тратит пользователь на ипотеку и сколько он накопит за год.\n",
    "\n",
    "Пример:\n",
    "\n",
    "Введите заработанную плату в месяц: 100000\n",
    "\n",
    "Введите сколько процентов уходит на ипотеку: 30\n",
    "\n",
    "Введите сколько процентов уходит на жизнь: 50\n",
    "\n",
    "Введите количество премий за год: 2\n",
    "\n",
    "Вывод: На ипотеку было потрачено: 360000 рублей Было накоплено: 340000 рублей"
   ]
  },
  {
   "cell_type": "code",
   "execution_count": 60,
   "metadata": {},
   "outputs": [
    {
     "name": "stdout",
     "output_type": "stream",
     "text": [
      "Введите заработанную плату в месяц\n",
      "25000\n",
      "Введите сколько процентов уходит на ипотеку\n",
      "20\n",
      "Введите сколько процентов уходит на жизнь\n",
      "50\n",
      "Введите количество премий за год\n",
      "2\n",
      "На ипотеку было потрачено: 60000.0 рублей Было накоплено: 115000.0 рублей\n"
     ]
    }
   ],
   "source": [
    "salary = int(input(\"Введите заработанную плату в месяц\\n\"))\n",
    "mortgage = int(input(\"Введите сколько процентов уходит на ипотеку\\n\"))\n",
    "live = int(input(\"Введите сколько процентов уходит на жизнь\\n\"))\n",
    "prize = int(input(\"Введите количество премий за год\\n\"))\n",
    "a = (salary * prize)\n",
    "b = (salary * 12 * (mortgage/100))\n",
    "c = ((salary * 12) + a) * (live/100) - b\n",
    "print('На ипотеку было потрачено:', b, 'рублей Было накоплено:', c, 'рублей')"
   ]
  },
  {
   "cell_type": "code",
   "execution_count": null,
   "metadata": {},
   "outputs": [],
   "source": []
  }
 ],
 "metadata": {
  "kernelspec": {
   "display_name": "Python 3",
   "language": "python",
   "name": "python3"
  },
  "language_info": {
   "codemirror_mode": {
    "name": "ipython",
    "version": 3
   },
   "file_extension": ".py",
   "mimetype": "text/x-python",
   "name": "python",
   "nbconvert_exporter": "python",
   "pygments_lexer": "ipython3",
   "version": "3.7.6"
  }
 },
 "nbformat": 4,
 "nbformat_minor": 4
}
